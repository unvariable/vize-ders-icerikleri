{
 "cells": [
  {
   "cell_type": "code",
   "execution_count": 2,
   "id": "8d04c460-68d2-46b7-b334-bc32a092d944",
   "metadata": {},
   "outputs": [
    {
     "name": "stdin",
     "output_type": "stream",
     "text": [
      "Şu renklerden birisini girin- kırmızı,turuncu veya mavi: turuncu\n"
     ]
    },
    {
     "name": "stdout",
     "output_type": "stream",
     "text": [
      "Favori renginiz turuncu\n"
     ]
    }
   ],
   "source": [
    "#if - elif - else\n",
    "renk= input ('Şu renklerden birisini girin- kırmızı,turuncu veya mavi:')\n",
    "if renk== 'kırmızı':\n",
    "    print('Favori renginiz kırmızı')\n",
    "elif renk == 'turuncu':\n",
    "    print('Favori renginiz turuncu')\n",
    "elif renk == 'mavi' :\n",
    "    print ('En sevdiğin renk mavi')\n",
    "else:\n",
    "    print (\"Yanlış rengi girdiniz\")"
   ]
  },
  {
   "cell_type": "code",
   "execution_count": 5,
   "id": "253247ab-0516-4cd6-a965-d51d618d6ff8",
   "metadata": {},
   "outputs": [
    {
     "name": "stdout",
     "output_type": "stream",
     "text": [
      "10'dan büyük sayı\n"
     ]
    }
   ],
   "source": [
    "x=20\n",
    "if x<10:\n",
    "    if x<5:\n",
    "        print(\"5'ten küçük sayı\")\n",
    "    else:\n",
    "        print(\"5'ten büyük sayı\")\n",
    "else:\n",
    "    print(\"10'dan büyük sayı\")\n"
   ]
  },
  {
   "cell_type": "code",
   "execution_count": 8,
   "id": "5c2f5e59-0515-4211-ab74-952aac52c689",
   "metadata": {},
   "outputs": [
    {
     "name": "stdout",
     "output_type": "stream",
     "text": [
      "Her iki koşul da Doğru\n"
     ]
    }
   ],
   "source": [
    " a=200\n",
    "b=300\n",
    "c=500\n",
    "if a<b and c>a:\n",
    "    print(\"Her iki koşul da Doğru\")\n"
   ]
  },
  {
   "cell_type": "code",
   "execution_count": null,
   "id": "e9e696b3-b580-48fd-9a6b-958d63dd839b",
   "metadata": {},
   "outputs": [],
   "source": []
  }
 ],
 "metadata": {
  "kernelspec": {
   "display_name": "Python 3 (ipykernel)",
   "language": "python",
   "name": "python3"
  },
  "language_info": {
   "codemirror_mode": {
    "name": "ipython",
    "version": 3
   },
   "file_extension": ".py",
   "mimetype": "text/x-python",
   "name": "python",
   "nbconvert_exporter": "python",
   "pygments_lexer": "ipython3",
   "version": "3.13.0"
  }
 },
 "nbformat": 4,
 "nbformat_minor": 5
}
